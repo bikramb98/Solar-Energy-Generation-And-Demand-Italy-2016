{
 "cells": [
  {
   "cell_type": "code",
   "execution_count": 1,
   "metadata": {
    "collapsed": true
   },
   "outputs": [],
   "source": [
    "#importing the various libraries\n",
    "import numpy as np\n",
    "import pandas as pd\n",
    "import matplotlib.pyplot as plt\n",
    "%matplotlib inline"
   ]
  },
  {
   "cell_type": "code",
   "execution_count": 2,
   "metadata": {
    "collapsed": true
   },
   "outputs": [],
   "source": [
    "data= pd.read_csv('TimeSeries_TotalSolarGen_and_Load_IT_2016.csv')"
   ]
  },
  {
   "cell_type": "markdown",
   "metadata": {},
   "source": [
    "First, we can get an idea of the data by looking at the first and last few entries."
   ]
  },
  {
   "cell_type": "code",
   "execution_count": 3,
   "metadata": {},
   "outputs": [
    {
     "data": {
      "text/html": [
       "<div>\n",
       "<style>\n",
       "    .dataframe thead tr:only-child th {\n",
       "        text-align: right;\n",
       "    }\n",
       "\n",
       "    .dataframe thead th {\n",
       "        text-align: left;\n",
       "    }\n",
       "\n",
       "    .dataframe tbody tr th {\n",
       "        vertical-align: top;\n",
       "    }\n",
       "</style>\n",
       "<table border=\"1\" class=\"dataframe\">\n",
       "  <thead>\n",
       "    <tr style=\"text-align: right;\">\n",
       "      <th></th>\n",
       "      <th>utc_timestamp</th>\n",
       "      <th>IT_load_new</th>\n",
       "      <th>IT_solar_generation</th>\n",
       "    </tr>\n",
       "  </thead>\n",
       "  <tbody>\n",
       "    <tr>\n",
       "      <th>0</th>\n",
       "      <td>2016-01-01T00:00:00Z</td>\n",
       "      <td>21665.0</td>\n",
       "      <td>1</td>\n",
       "    </tr>\n",
       "    <tr>\n",
       "      <th>1</th>\n",
       "      <td>2016-01-01T01:00:00Z</td>\n",
       "      <td>20260.0</td>\n",
       "      <td>0</td>\n",
       "    </tr>\n",
       "    <tr>\n",
       "      <th>2</th>\n",
       "      <td>2016-01-01T02:00:00Z</td>\n",
       "      <td>19056.0</td>\n",
       "      <td>0</td>\n",
       "    </tr>\n",
       "    <tr>\n",
       "      <th>3</th>\n",
       "      <td>2016-01-01T03:00:00Z</td>\n",
       "      <td>18407.0</td>\n",
       "      <td>0</td>\n",
       "    </tr>\n",
       "    <tr>\n",
       "      <th>4</th>\n",
       "      <td>2016-01-01T04:00:00Z</td>\n",
       "      <td>18425.0</td>\n",
       "      <td>0</td>\n",
       "    </tr>\n",
       "  </tbody>\n",
       "</table>\n",
       "</div>"
      ],
      "text/plain": [
       "          utc_timestamp  IT_load_new  IT_solar_generation\n",
       "0  2016-01-01T00:00:00Z      21665.0                    1\n",
       "1  2016-01-01T01:00:00Z      20260.0                    0\n",
       "2  2016-01-01T02:00:00Z      19056.0                    0\n",
       "3  2016-01-01T03:00:00Z      18407.0                    0\n",
       "4  2016-01-01T04:00:00Z      18425.0                    0"
      ]
     },
     "execution_count": 3,
     "metadata": {},
     "output_type": "execute_result"
    }
   ],
   "source": [
    "data.head()"
   ]
  },
  {
   "cell_type": "code",
   "execution_count": 4,
   "metadata": {},
   "outputs": [
    {
     "data": {
      "text/html": [
       "<div>\n",
       "<style>\n",
       "    .dataframe thead tr:only-child th {\n",
       "        text-align: right;\n",
       "    }\n",
       "\n",
       "    .dataframe thead th {\n",
       "        text-align: left;\n",
       "    }\n",
       "\n",
       "    .dataframe tbody tr th {\n",
       "        vertical-align: top;\n",
       "    }\n",
       "</style>\n",
       "<table border=\"1\" class=\"dataframe\">\n",
       "  <thead>\n",
       "    <tr style=\"text-align: right;\">\n",
       "      <th></th>\n",
       "      <th>utc_timestamp</th>\n",
       "      <th>IT_load_new</th>\n",
       "      <th>IT_solar_generation</th>\n",
       "    </tr>\n",
       "  </thead>\n",
       "  <tbody>\n",
       "    <tr>\n",
       "      <th>8779</th>\n",
       "      <td>2016-12-31T19:00:00Z</td>\n",
       "      <td>31154.0</td>\n",
       "      <td>0</td>\n",
       "    </tr>\n",
       "    <tr>\n",
       "      <th>8780</th>\n",
       "      <td>2016-12-31T20:00:00Z</td>\n",
       "      <td>28342.0</td>\n",
       "      <td>0</td>\n",
       "    </tr>\n",
       "    <tr>\n",
       "      <th>8781</th>\n",
       "      <td>2016-12-31T21:00:00Z</td>\n",
       "      <td>26496.0</td>\n",
       "      <td>0</td>\n",
       "    </tr>\n",
       "    <tr>\n",
       "      <th>8782</th>\n",
       "      <td>2016-12-31T22:00:00Z</td>\n",
       "      <td>25276.0</td>\n",
       "      <td>0</td>\n",
       "    </tr>\n",
       "    <tr>\n",
       "      <th>8783</th>\n",
       "      <td>2016-12-31T23:00:00Z</td>\n",
       "      <td>23663.0</td>\n",
       "      <td>0</td>\n",
       "    </tr>\n",
       "  </tbody>\n",
       "</table>\n",
       "</div>"
      ],
      "text/plain": [
       "             utc_timestamp  IT_load_new  IT_solar_generation\n",
       "8779  2016-12-31T19:00:00Z      31154.0                    0\n",
       "8780  2016-12-31T20:00:00Z      28342.0                    0\n",
       "8781  2016-12-31T21:00:00Z      26496.0                    0\n",
       "8782  2016-12-31T22:00:00Z      25276.0                    0\n",
       "8783  2016-12-31T23:00:00Z      23663.0                    0"
      ]
     },
     "execution_count": 4,
     "metadata": {},
     "output_type": "execute_result"
    }
   ],
   "source": [
    "data.tail()"
   ]
  },
  {
   "cell_type": "markdown",
   "metadata": {},
   "source": [
    "First, the 'IT_load_new' and 'IT_solar_generation' columns are renamed to 'load(MW)' and 'solar_generation(MW)' "
   ]
  },
  {
   "cell_type": "code",
   "execution_count": 5,
   "metadata": {},
   "outputs": [],
   "source": [
    "data.columns = ['utc_timestamp','Load(MW)','Solar_Generation(MW)']"
   ]
  },
  {
   "cell_type": "markdown",
   "metadata": {},
   "source": [
    "It can be seen that the utc_timestamp column is of the format Year,Month,Date,Hours,Minutes and Seconds. Using pandas, this can be split into two (Year,Month,Date and Hours,Minutes,Seconds)"
   ]
  },
  {
   "cell_type": "code",
   "execution_count": 6,
   "metadata": {
    "collapsed": true
   },
   "outputs": [],
   "source": [
    "data['utc_timestamp'] = pd.to_datetime(data['utc_timestamp'])\n",
    "data['date'] = [data.date() for data in data['utc_timestamp']]\n",
    "data['time'] = [data.time() for data in data['utc_timestamp']]"
   ]
  },
  {
   "cell_type": "markdown",
   "metadata": {},
   "source": [
    "Now, looking at the data again"
   ]
  },
  {
   "cell_type": "code",
   "execution_count": 7,
   "metadata": {},
   "outputs": [
    {
     "data": {
      "text/html": [
       "<div>\n",
       "<style>\n",
       "    .dataframe thead tr:only-child th {\n",
       "        text-align: right;\n",
       "    }\n",
       "\n",
       "    .dataframe thead th {\n",
       "        text-align: left;\n",
       "    }\n",
       "\n",
       "    .dataframe tbody tr th {\n",
       "        vertical-align: top;\n",
       "    }\n",
       "</style>\n",
       "<table border=\"1\" class=\"dataframe\">\n",
       "  <thead>\n",
       "    <tr style=\"text-align: right;\">\n",
       "      <th></th>\n",
       "      <th>utc_timestamp</th>\n",
       "      <th>Load(MW)</th>\n",
       "      <th>Solar_Generation(MW)</th>\n",
       "      <th>date</th>\n",
       "      <th>time</th>\n",
       "    </tr>\n",
       "  </thead>\n",
       "  <tbody>\n",
       "    <tr>\n",
       "      <th>0</th>\n",
       "      <td>2016-01-01 00:00:00</td>\n",
       "      <td>21665.0</td>\n",
       "      <td>1</td>\n",
       "      <td>2016-01-01</td>\n",
       "      <td>00:00:00</td>\n",
       "    </tr>\n",
       "    <tr>\n",
       "      <th>1</th>\n",
       "      <td>2016-01-01 01:00:00</td>\n",
       "      <td>20260.0</td>\n",
       "      <td>0</td>\n",
       "      <td>2016-01-01</td>\n",
       "      <td>01:00:00</td>\n",
       "    </tr>\n",
       "    <tr>\n",
       "      <th>2</th>\n",
       "      <td>2016-01-01 02:00:00</td>\n",
       "      <td>19056.0</td>\n",
       "      <td>0</td>\n",
       "      <td>2016-01-01</td>\n",
       "      <td>02:00:00</td>\n",
       "    </tr>\n",
       "    <tr>\n",
       "      <th>3</th>\n",
       "      <td>2016-01-01 03:00:00</td>\n",
       "      <td>18407.0</td>\n",
       "      <td>0</td>\n",
       "      <td>2016-01-01</td>\n",
       "      <td>03:00:00</td>\n",
       "    </tr>\n",
       "    <tr>\n",
       "      <th>4</th>\n",
       "      <td>2016-01-01 04:00:00</td>\n",
       "      <td>18425.0</td>\n",
       "      <td>0</td>\n",
       "      <td>2016-01-01</td>\n",
       "      <td>04:00:00</td>\n",
       "    </tr>\n",
       "  </tbody>\n",
       "</table>\n",
       "</div>"
      ],
      "text/plain": [
       "        utc_timestamp  Load(MW)  Solar_Generation(MW)        date      time\n",
       "0 2016-01-01 00:00:00   21665.0                     1  2016-01-01  00:00:00\n",
       "1 2016-01-01 01:00:00   20260.0                     0  2016-01-01  01:00:00\n",
       "2 2016-01-01 02:00:00   19056.0                     0  2016-01-01  02:00:00\n",
       "3 2016-01-01 03:00:00   18407.0                     0  2016-01-01  03:00:00\n",
       "4 2016-01-01 04:00:00   18425.0                     0  2016-01-01  04:00:00"
      ]
     },
     "execution_count": 7,
     "metadata": {},
     "output_type": "execute_result"
    }
   ],
   "source": [
    "data.head()"
   ]
  },
  {
   "cell_type": "markdown",
   "metadata": {},
   "source": [
    "The 'utc_timestamp' column can now be removed and the columns can be rearranged so that the 'date' and 'time' column are on the left"
   ]
  },
  {
   "cell_type": "code",
   "execution_count": 8,
   "metadata": {},
   "outputs": [],
   "source": [
    "data = data.drop('utc_timestamp',axis=1)\n",
    "data = data[['date','time','Load(MW)','Solar_Generation(MW)']]"
   ]
  },
  {
   "cell_type": "markdown",
   "metadata": {},
   "source": [
    "Now, some analysis can be done"
   ]
  },
  {
   "cell_type": "markdown",
   "metadata": {},
   "source": [
    "1.The day with highest demand (highest Load)"
   ]
  },
  {
   "cell_type": "code",
   "execution_count": 9,
   "metadata": {},
   "outputs": [
    {
     "data": {
      "text/plain": [
       "date                    2016-07-12\n",
       "time                      12:00:00\n",
       "Load(MW)                     48986\n",
       "Solar_Generation(MW)          8245\n",
       "Name: 4644, dtype: object"
      ]
     },
     "execution_count": 9,
     "metadata": {},
     "output_type": "execute_result"
    }
   ],
   "source": [
    "data.loc[data['Load(MW)'].idxmax()]"
   ]
  },
  {
   "cell_type": "markdown",
   "metadata": {},
   "source": [
    "2.The day with highest Solar Generation"
   ]
  },
  {
   "cell_type": "code",
   "execution_count": 10,
   "metadata": {},
   "outputs": [
    {
     "data": {
      "text/plain": [
       "date                    2016-10-29\n",
       "time                      11:00:00\n",
       "Load(MW)                     27801\n",
       "Solar_Generation(MW)         15824\n",
       "Name: 7259, dtype: object"
      ]
     },
     "execution_count": 10,
     "metadata": {},
     "output_type": "execute_result"
    }
   ],
   "source": [
    "data.loc[data['Solar_Generation(MW)'].idxmax()]"
   ]
  },
  {
   "cell_type": "markdown",
   "metadata": {},
   "source": [
    "Similarly, the minimum demand and solar power generation can also be found out using idxmin() "
   ]
  },
  {
   "cell_type": "markdown",
   "metadata": {},
   "source": [
    "The difference in supply and demand can be calculated and a new column named 'Difference' can be added to the dataframe"
   ]
  },
  {
   "cell_type": "code",
   "execution_count": 11,
   "metadata": {
    "collapsed": true
   },
   "outputs": [],
   "source": [
    "data['Difference'] = data['Load(MW)'] - data['Solar_Generation(MW)']"
   ]
  },
  {
   "cell_type": "markdown",
   "metadata": {},
   "source": [
    "The highest difference between load and solar generation can now be found out:"
   ]
  },
  {
   "cell_type": "code",
   "execution_count": 12,
   "metadata": {},
   "outputs": [
    {
     "data": {
      "text/plain": [
       "date                    2016-12-14\n",
       "time                      16:00:00\n",
       "Load(MW)                     48706\n",
       "Solar_Generation(MW)             0\n",
       "Difference                   48706\n",
       "Name: 8368, dtype: object"
      ]
     },
     "execution_count": 12,
     "metadata": {},
     "output_type": "execute_result"
    }
   ],
   "source": [
    "data.loc[data['Difference'].idxmax()]"
   ]
  },
  {
   "cell_type": "markdown",
   "metadata": {},
   "source": [
    "Now, time will be considered as index, with 24 rows and each row corresponding to an hour of the day. This will make analysis of data with respect to the hour of the day easier. Also, date will be considered as columns"
   ]
  },
  {
   "cell_type": "code",
   "execution_count": 13,
   "metadata": {},
   "outputs": [
    {
     "data": {
      "text/html": [
       "<div>\n",
       "<style>\n",
       "    .dataframe thead tr:only-child th {\n",
       "        text-align: right;\n",
       "    }\n",
       "\n",
       "    .dataframe thead th {\n",
       "        text-align: left;\n",
       "    }\n",
       "\n",
       "    .dataframe tbody tr th {\n",
       "        vertical-align: top;\n",
       "    }\n",
       "</style>\n",
       "<table border=\"1\" class=\"dataframe\">\n",
       "  <thead>\n",
       "    <tr>\n",
       "      <th></th>\n",
       "      <th colspan=\"10\" halign=\"left\">Load(MW)</th>\n",
       "      <th>...</th>\n",
       "      <th colspan=\"10\" halign=\"left\">Difference</th>\n",
       "    </tr>\n",
       "    <tr>\n",
       "      <th>date</th>\n",
       "      <th>2016-01-01</th>\n",
       "      <th>2016-01-02</th>\n",
       "      <th>2016-01-03</th>\n",
       "      <th>2016-01-04</th>\n",
       "      <th>2016-01-05</th>\n",
       "      <th>2016-01-06</th>\n",
       "      <th>2016-01-07</th>\n",
       "      <th>2016-01-08</th>\n",
       "      <th>2016-01-09</th>\n",
       "      <th>2016-01-10</th>\n",
       "      <th>...</th>\n",
       "      <th>2016-12-22</th>\n",
       "      <th>2016-12-23</th>\n",
       "      <th>2016-12-24</th>\n",
       "      <th>2016-12-25</th>\n",
       "      <th>2016-12-26</th>\n",
       "      <th>2016-12-27</th>\n",
       "      <th>2016-12-28</th>\n",
       "      <th>2016-12-29</th>\n",
       "      <th>2016-12-30</th>\n",
       "      <th>2016-12-31</th>\n",
       "    </tr>\n",
       "    <tr>\n",
       "      <th>time</th>\n",
       "      <th></th>\n",
       "      <th></th>\n",
       "      <th></th>\n",
       "      <th></th>\n",
       "      <th></th>\n",
       "      <th></th>\n",
       "      <th></th>\n",
       "      <th></th>\n",
       "      <th></th>\n",
       "      <th></th>\n",
       "      <th></th>\n",
       "      <th></th>\n",
       "      <th></th>\n",
       "      <th></th>\n",
       "      <th></th>\n",
       "      <th></th>\n",
       "      <th></th>\n",
       "      <th></th>\n",
       "      <th></th>\n",
       "      <th></th>\n",
       "      <th></th>\n",
       "    </tr>\n",
       "  </thead>\n",
       "  <tbody>\n",
       "    <tr>\n",
       "      <th>00:00:00</th>\n",
       "      <td>21665.0</td>\n",
       "      <td>19651.0</td>\n",
       "      <td>20156.0</td>\n",
       "      <td>19872.0</td>\n",
       "      <td>22224.0</td>\n",
       "      <td>22129.0</td>\n",
       "      <td>21226.0</td>\n",
       "      <td>23911.0</td>\n",
       "      <td>23648.0</td>\n",
       "      <td>22002.0</td>\n",
       "      <td>...</td>\n",
       "      <td>25847.0</td>\n",
       "      <td>25310.0</td>\n",
       "      <td>22599.0</td>\n",
       "      <td>20838.0</td>\n",
       "      <td>18650.0</td>\n",
       "      <td>19300.0</td>\n",
       "      <td>21209.0</td>\n",
       "      <td>21540.0</td>\n",
       "      <td>21536.0</td>\n",
       "      <td>21363.0</td>\n",
       "    </tr>\n",
       "    <tr>\n",
       "      <th>01:00:00</th>\n",
       "      <td>20260.0</td>\n",
       "      <td>18679.0</td>\n",
       "      <td>19200.0</td>\n",
       "      <td>19023.0</td>\n",
       "      <td>21217.0</td>\n",
       "      <td>21058.0</td>\n",
       "      <td>20395.0</td>\n",
       "      <td>23010.0</td>\n",
       "      <td>22678.0</td>\n",
       "      <td>20712.0</td>\n",
       "      <td>...</td>\n",
       "      <td>24751.0</td>\n",
       "      <td>24176.0</td>\n",
       "      <td>21309.0</td>\n",
       "      <td>19194.0</td>\n",
       "      <td>17895.0</td>\n",
       "      <td>18454.0</td>\n",
       "      <td>20403.0</td>\n",
       "      <td>20623.0</td>\n",
       "      <td>20566.0</td>\n",
       "      <td>20211.0</td>\n",
       "    </tr>\n",
       "    <tr>\n",
       "      <th>02:00:00</th>\n",
       "      <td>19056.0</td>\n",
       "      <td>18264.0</td>\n",
       "      <td>18603.0</td>\n",
       "      <td>18745.0</td>\n",
       "      <td>20986.0</td>\n",
       "      <td>20533.0</td>\n",
       "      <td>20269.0</td>\n",
       "      <td>22594.0</td>\n",
       "      <td>22337.0</td>\n",
       "      <td>20142.0</td>\n",
       "      <td>...</td>\n",
       "      <td>24532.0</td>\n",
       "      <td>23880.0</td>\n",
       "      <td>20677.0</td>\n",
       "      <td>18272.0</td>\n",
       "      <td>17493.0</td>\n",
       "      <td>18217.0</td>\n",
       "      <td>20226.0</td>\n",
       "      <td>20214.0</td>\n",
       "      <td>20225.0</td>\n",
       "      <td>19737.0</td>\n",
       "    </tr>\n",
       "    <tr>\n",
       "      <th>03:00:00</th>\n",
       "      <td>18407.0</td>\n",
       "      <td>18346.0</td>\n",
       "      <td>18456.0</td>\n",
       "      <td>19110.0</td>\n",
       "      <td>21203.0</td>\n",
       "      <td>20421.0</td>\n",
       "      <td>20728.0</td>\n",
       "      <td>23020.0</td>\n",
       "      <td>22351.0</td>\n",
       "      <td>20147.0</td>\n",
       "      <td>...</td>\n",
       "      <td>24821.0</td>\n",
       "      <td>24152.0</td>\n",
       "      <td>20362.0</td>\n",
       "      <td>17874.0</td>\n",
       "      <td>17505.0</td>\n",
       "      <td>18467.0</td>\n",
       "      <td>20342.0</td>\n",
       "      <td>20380.0</td>\n",
       "      <td>20522.0</td>\n",
       "      <td>19772.0</td>\n",
       "    </tr>\n",
       "    <tr>\n",
       "      <th>04:00:00</th>\n",
       "      <td>18425.0</td>\n",
       "      <td>19236.0</td>\n",
       "      <td>18917.0</td>\n",
       "      <td>20513.0</td>\n",
       "      <td>22496.0</td>\n",
       "      <td>20760.0</td>\n",
       "      <td>22606.0</td>\n",
       "      <td>24660.0</td>\n",
       "      <td>22910.0</td>\n",
       "      <td>20548.0</td>\n",
       "      <td>...</td>\n",
       "      <td>26667.0</td>\n",
       "      <td>25759.0</td>\n",
       "      <td>21190.0</td>\n",
       "      <td>18182.0</td>\n",
       "      <td>18106.0</td>\n",
       "      <td>20026.0</td>\n",
       "      <td>21586.0</td>\n",
       "      <td>21736.0</td>\n",
       "      <td>21824.0</td>\n",
       "      <td>20576.0</td>\n",
       "    </tr>\n",
       "  </tbody>\n",
       "</table>\n",
       "<p>5 rows × 1098 columns</p>\n",
       "</div>"
      ],
      "text/plain": [
       "           Load(MW)                                                         \\\n",
       "date     2016-01-01 2016-01-02 2016-01-03 2016-01-04 2016-01-05 2016-01-06   \n",
       "time                                                                         \n",
       "00:00:00    21665.0    19651.0    20156.0    19872.0    22224.0    22129.0   \n",
       "01:00:00    20260.0    18679.0    19200.0    19023.0    21217.0    21058.0   \n",
       "02:00:00    19056.0    18264.0    18603.0    18745.0    20986.0    20533.0   \n",
       "03:00:00    18407.0    18346.0    18456.0    19110.0    21203.0    20421.0   \n",
       "04:00:00    18425.0    19236.0    18917.0    20513.0    22496.0    20760.0   \n",
       "\n",
       "                                                        ...     Difference  \\\n",
       "date     2016-01-07 2016-01-08 2016-01-09 2016-01-10    ...     2016-12-22   \n",
       "time                                                    ...                  \n",
       "00:00:00    21226.0    23911.0    23648.0    22002.0    ...        25847.0   \n",
       "01:00:00    20395.0    23010.0    22678.0    20712.0    ...        24751.0   \n",
       "02:00:00    20269.0    22594.0    22337.0    20142.0    ...        24532.0   \n",
       "03:00:00    20728.0    23020.0    22351.0    20147.0    ...        24821.0   \n",
       "04:00:00    22606.0    24660.0    22910.0    20548.0    ...        26667.0   \n",
       "\n",
       "                                                                            \\\n",
       "date     2016-12-23 2016-12-24 2016-12-25 2016-12-26 2016-12-27 2016-12-28   \n",
       "time                                                                         \n",
       "00:00:00    25310.0    22599.0    20838.0    18650.0    19300.0    21209.0   \n",
       "01:00:00    24176.0    21309.0    19194.0    17895.0    18454.0    20403.0   \n",
       "02:00:00    23880.0    20677.0    18272.0    17493.0    18217.0    20226.0   \n",
       "03:00:00    24152.0    20362.0    17874.0    17505.0    18467.0    20342.0   \n",
       "04:00:00    25759.0    21190.0    18182.0    18106.0    20026.0    21586.0   \n",
       "\n",
       "                                           \n",
       "date     2016-12-29 2016-12-30 2016-12-31  \n",
       "time                                       \n",
       "00:00:00    21540.0    21536.0    21363.0  \n",
       "01:00:00    20623.0    20566.0    20211.0  \n",
       "02:00:00    20214.0    20225.0    19737.0  \n",
       "03:00:00    20380.0    20522.0    19772.0  \n",
       "04:00:00    21736.0    21824.0    20576.0  \n",
       "\n",
       "[5 rows x 1098 columns]"
      ]
     },
     "execution_count": 13,
     "metadata": {},
     "output_type": "execute_result"
    }
   ],
   "source": [
    "new_data = data.pivot(index ='time',columns='date')\n",
    "new_data.head()"
   ]
  },
  {
   "cell_type": "markdown",
   "metadata": {},
   "source": [
    "Some visualizations:"
   ]
  },
  {
   "cell_type": "markdown",
   "metadata": {},
   "source": [
    "1.Difference in load and generated power"
   ]
  },
  {
   "cell_type": "code",
   "execution_count": 14,
   "metadata": {},
   "outputs": [
    {
     "data": {
      "text/plain": [
       "<matplotlib.text.Text at 0x25aab2442e8>"
      ]
     },
     "execution_count": 14,
     "metadata": {},
     "output_type": "execute_result"
    },
    {
     "data": {
      "image/png": "[encoded data removed]",
      "text/plain": [
       "<matplotlib.figure.Figure at 0x25aaaeb5550>"
      ]
     },
     "metadata": {},
     "output_type": "display_data"
    }
   ],
   "source": [
    "plt.imshow(new_data['Difference'],aspect='auto')\n",
    "plt.colorbar()\n",
    "plt.xlabel('Day of the year')\n",
    "plt.ylabel('Time of the day')\n",
    "plt.title('Difference(MW)')"
   ]
  },
  {
   "cell_type": "markdown",
   "metadata": {},
   "source": [
    "It can be seen that the difference is high particularly during the first 3 months (day0-75) and the last 2 months(day300-360)"
   ]
  },
  {
   "cell_type": "markdown",
   "metadata": {},
   "source": [
    "2.Solar power generated throughout the year"
   ]
  },
  {
   "cell_type": "code",
   "execution_count": 15,
   "metadata": {},
   "outputs": [
    {
     "data": {
      "text/plain": [
       "<matplotlib.text.Text at 0x25aab3dbdd8>"
      ]
     },
     "execution_count": 15,
     "metadata": {},
     "output_type": "execute_result"
    },
    {
     "data": {
      "image/png": "[encoded data removed]",
      "text/plain": [
       "<matplotlib.figure.Figure at 0x25aab85d7f0>"
      ]
     },
     "metadata": {},
     "output_type": "display_data"
    }
   ],
   "source": [
    "plt.imshow(new_data['Solar_Generation(MW)'],aspect='auto')\n",
    "plt.colorbar()\n",
    "plt.xlabel('Day of the year')\n",
    "plt.ylabel('Time of the day')\n",
    "plt.title('Solar Power Generation (MW)')"
   ]
  },
  {
   "cell_type": "markdown",
   "metadata": {},
   "source": [
    "The solar power generation shows a trend of starting at around 5:00 hrs and going out at around 16:00 hrs. However, there is a day (around the 300th day), where solar power generation was at its peak. This was on the 29th of October 2016, as it was found in the initial analysis done above."
   ]
  },
  {
   "cell_type": "markdown",
   "metadata": {},
   "source": [
    "3.Power demand throughout the year"
   ]
  },
  {
   "cell_type": "code",
   "execution_count": 16,
   "metadata": {},
   "outputs": [
    {
     "data": {
      "text/plain": [
       "<matplotlib.text.Text at 0x25aab8e5208>"
      ]
     },
     "execution_count": 16,
     "metadata": {},
     "output_type": "execute_result"
    },
    {
     "data": {
      "image/png": "[encoded data removed]",
      "text/plain": [
       "<matplotlib.figure.Figure at 0x25aab3401d0>"
      ]
     },
     "metadata": {},
     "output_type": "display_data"
    }
   ],
   "source": [
    "plt.imshow(new_data['Load(MW)'],aspect='auto')\n",
    "plt.colorbar()\n",
    "plt.xlabel('Day of the year')\n",
    "plt.ylabel('Time of the day')\n",
    "plt.title('Load(MW)')"
   ]
  },
  {
   "cell_type": "markdown",
   "metadata": {},
   "source": [
    "It can be seen that the load is at its peak between 5:00 hrs and 20:00 hrs. Seasonal changes in the load can also be noticed around the period of day 75-150 when the load is comparetively low. Also, there appears to be some missing data around day 325."
   ]
  }
 ],
 "metadata": {
  "kernelspec": {
   "display_name": "Python 3",
   "language": "python",
   "name": "python3"
  },
  "language_info": {
   "codemirror_mode": {
    "name": "ipython",
    "version": 3
   },
   "file_extension": ".py",
   "mimetype": "text/x-python",
   "name": "python",
   "nbconvert_exporter": "python",
   "pygments_lexer": "ipython3",
   "version": "3.6.2"
  }
 },
 "nbformat": 4,
 "nbformat_minor": 2
}
